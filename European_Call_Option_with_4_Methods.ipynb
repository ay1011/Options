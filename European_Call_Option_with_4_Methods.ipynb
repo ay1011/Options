{
 "cells": [
  {
   "cell_type": "code",
   "execution_count": 1,
   "id": "b5014a66",
   "metadata": {},
   "outputs": [],
   "source": [
    "import numpy as np\n",
    "from scipy.stats import norm\n",
    "import numba as nb\n",
    "from numba import njit, prange\n",
    "\n",
    "\n",
    "@njit\n",
    "# Define the payoff function for a call option\n",
    "def payoff(S, K):\n",
    "    return np.maximum(S - K, 0)\n",
    "\n",
    "@njit(fastmath=True,parallel=True)\n",
    "def PDE(S, K, r, sigma,T, M, N):\n",
    "    # Define the space and time grids\n",
    "    S_max = 10.0 * K # upper limit for the asset value\n",
    "    ds = S_max / M # space step\n",
    "    dt = T / N # time step\n",
    "    S_grid = np.linspace(0, S_max, M+1) # space grid\n",
    "    t_grid = np.linspace(0, T, N+1) # time grid\n",
    "    \n",
    "\n",
    "    # Initialize the option value matrix\n",
    "    V = np.zeros((M+1, N+1))\n",
    "\n",
    "    # Set the terminal condition (payoff at maturity)\n",
    "    V[:, -1] = payoff(S_grid, K)\n",
    "\n",
    "    \n",
    "    # Set the boundary conditions (option value at S=0 and S=S_max)\n",
    "    V[0, :] = 0.0                              # option value is zero when asset value is zero\n",
    "    V[-1, :] = S_max - K * np.exp(-r * t_grid) # option value when asset value is very large\n",
    "\n",
    "    # Loop backwards in time to calculate the option value at each node\n",
    "    for n in range(N-1, -1, -1): # from N-1 to 0\n",
    "        for m in range(1, M): # from 1 to M-1\n",
    "            # Calculate the coefficients a, b and c for the finite difference scheme\n",
    "            sig = sigma**2 * m**2\n",
    "            a = 0.5 * dt * (sig - r * m)\n",
    "            b = 1 - dt   * (sig + r)\n",
    "            c = 0.5 * dt * (sig + r * m)\n",
    "            # Update the option value at node (m, n) using the explicit scheme\n",
    "            V[m, n] = a * V[m-1, n+1] + b * V[m, n+1] + c * V[m+1, n+1]\n",
    "\n",
    "    ## Interpolate the option value at S using linear interpolation\n",
    "    #i = int(np.floor(S / ds)) # find the index of the closest node below S\n",
    "    #alpha = (S - S_grid[i]) / ds # find the interpolation weight\n",
    "    #V_S = alpha * V[i+1, 0] + (1 - alpha) * V[i, 0] # interpolate the option value\n",
    "    \n",
    "    \n",
    "    return np.interp(S, S_grid, V[:,0])\n",
    "    #return V_S"
   ]
  },
  {
   "cell_type": "code",
   "execution_count": 2,
   "id": "fce7ec83",
   "metadata": {},
   "outputs": [
    {
     "name": "stdout",
     "output_type": "stream",
     "text": [
      "8.02 ms ± 322 µs per loop (mean ± std. dev. of 7 runs, 1 loop each)\n",
      "The European call option value is 10.2470\n"
     ]
    }
   ],
   "source": [
    "# Define the parameters\n",
    "S = 20.0 # initial asset value\n",
    "K = 10.0 # strike price\n",
    "r = 0.1 # risk-free interest rate\n",
    "sigma = 0.4 # volatility\n",
    "T = 0.25 # time to maturity\n",
    "M = 350 # number of space intervals\n",
    "N = 5000 # number of time intervals\n",
    "\n",
    "%timeit PDE(S, K, r, sigma,T, M, N)\n",
    "V_S =  PDE(S, K, r, sigma,T, M, N)\n",
    "# Print the result\n",
    "print(\"The European call option value is {:.4f}\".format(V_S))"
   ]
  },
  {
   "cell_type": "code",
   "execution_count": 3,
   "id": "0ec91a38",
   "metadata": {},
   "outputs": [
    {
     "name": "stdout",
     "output_type": "stream",
     "text": [
      "The European call option value is 10.2470\n"
     ]
    }
   ],
   "source": [
    "import math\n",
    "# Define the Black-Scholes formula for a call option\n",
    "def black_scholes(S, K, T, r, sigma):\n",
    "    d1 = (math.log(S / K) + (r + 0.5 * sigma**2) * T) / (sigma * math.sqrt(T))\n",
    "    d2 = d1 - sigma * math.sqrt(T)\n",
    "    return S * norm.cdf(d1) - K * math.exp(-r * T) * norm.cdf(d2)\n",
    "\n",
    "# Calculate the option value\n",
    "V = black_scholes(S, K, T, r, sigma)\n",
    "\n",
    "# Print the result\n",
    "print(\"The European call option value is {:.4f}\".format(V))\n"
   ]
  },
  {
   "cell_type": "code",
   "execution_count": 4,
   "id": "1279cbd7",
   "metadata": {},
   "outputs": [
    {
     "data": {
      "text/plain": [
       "6.34006878463822e-06"
      ]
     },
     "execution_count": 4,
     "metadata": {},
     "output_type": "execute_result"
    }
   ],
   "source": [
    "V_S-V"
   ]
  },
  {
   "cell_type": "code",
   "execution_count": 5,
   "id": "0a86f88f",
   "metadata": {},
   "outputs": [],
   "source": [
    "import numpy as np\n",
    "from scipy.stats import norm\n",
    "import numba as nb\n",
    "from numba import njit, prange\n",
    "\n",
    "N = 2 # number of time intervals\n",
    "M = int(4e7) # number of simulations\n",
    "\n",
    "@njit(fastmath=True,parallel=True)\n",
    "def MC_numba(S, K, r, sigma,T, M, N):\n",
    "\n",
    "    # Define the time and space grids\n",
    "    dt = T / N # time step\n",
    "    S_grid = np.zeros((M, N+1)) # space grid\n",
    "    S_grid[:, 0] = S # initial condition\n",
    "    S_grid2 = np.zeros((M, N+1)) # space grid\n",
    "    S_grid2[:, 0] = S # initial condition\n",
    "\n",
    "    # Loop over the simulations and time steps to update the asset price\n",
    "    r_sig_dt = (r - 0.5 * sigma**2) * dt\n",
    "    sigma_sqrt_dt = sigma * np.sqrt(dt)\n",
    "    for i in prange(M):\n",
    "        for j in range(N):\n",
    "            Z = np.random.normal()\n",
    "            S_grid[i, j+1] = S_grid[i, j] * np.exp(r_sig_dt + sigma_sqrt_dt * Z)\n",
    "            S_grid2[i, j+1] = S_grid2[i, j] * np.exp(r_sig_dt - sigma_sqrt_dt * Z)\n",
    "    # Calculate the payoff of the option at maturity for each simulation\n",
    "    payoff = 0.5*( np.maximum(S_grid[:, -1] - K, 0) + np.maximum(S_grid2[:, -1] - K, 0) )\n",
    "\n",
    "    # Discount the payoff to get the present value and take the average\n",
    "    V = np.exp(-r * T) * np.mean(payoff)\n",
    "    return V"
   ]
  },
  {
   "cell_type": "code",
   "execution_count": 6,
   "id": "a8497fab",
   "metadata": {},
   "outputs": [
    {
     "name": "stdout",
     "output_type": "stream",
     "text": [
      "4.47 s ± 0 ns per loop (mean ± std. dev. of 1 run, 1 loop each)\n",
      "The European call option value is 10.2471\n"
     ]
    }
   ],
   "source": [
    "%timeit -r 1 MC_numba(S, K, r, sigma,T, M, N)\n",
    "V_MC = MC_numba(S, K, r, sigma,T, M, N)\n",
    "# Print the result\n",
    "print(\"The European call option value is {:.4f}\".format(V_MC))"
   ]
  },
  {
   "cell_type": "code",
   "execution_count": 7,
   "id": "f9625277",
   "metadata": {},
   "outputs": [],
   "source": [
    "# Implements for a european call option based on \n",
    "# https://hamedhelali.github.io/blog-post/Binomial-lattice/\n",
    "import numpy as np\n",
    "\n",
    "@njit(fastmath=True,parallel=True)\n",
    "def binomial_lattice(S_0, K, sigma, r, T, M):\n",
    "\n",
    "    dt = T / M\n",
    "    u = np.exp(sigma * np.sqrt(dt))\n",
    "    d = 1 / u\n",
    "    p = (np.exp(r * dt) - d) / (u - d)\n",
    "    discount = np.exp(-r * dt)\n",
    "    p_u = discount * p\n",
    "    p_d = discount * (1-p)\n",
    "\n",
    "    SVals = np.zeros(2*M+1)\n",
    "    PVals = np.zeros(2*M+1)\n",
    "\n",
    "    SVals[0] = S_0 * d**M\n",
    "\n",
    "    for i in range(1,2*M+1):\n",
    "        SVals[i] = SVals[i-1] * u\n",
    "\n",
    "    for j in range(M+1):\n",
    "        i = 2*j \n",
    "        PVals[i] = np.maximum(SVals[i]-K, 0)\n",
    "        \n",
    "    for tau in range(0, M):\n",
    "        for j in range(0, M-tau):\n",
    "            i = 2*j + tau + 1 \n",
    "            PVals[i] = p_u * PVals[i+1] + p_d * PVals[i-1]\n",
    "\n",
    "    return PVals[M]\n",
    "\n",
    "S_0 = 20.0\n",
    "K = 10.0\n",
    "sigma = 0.4\n",
    "r = 0.10\n",
    "T = 0.25\n",
    "M = 100\n"
   ]
  },
  {
   "cell_type": "code",
   "execution_count": 8,
   "id": "fcd71192",
   "metadata": {},
   "outputs": [
    {
     "name": "stdout",
     "output_type": "stream",
     "text": [
      "19.1 µs ± 6.93 µs per loop (mean ± std. dev. of 7 runs, 1 loop each)\n",
      "10.247000290904706\n"
     ]
    }
   ],
   "source": [
    "%timeit binomial_lattice(S_0, K, sigma, r, T, M)\n",
    "print(binomial_lattice(S_0, K, sigma, r, T, M))"
   ]
  }
 ],
 "metadata": {
  "kernelspec": {
   "display_name": "test_env",
   "language": "python",
   "name": "condaenv"
  },
  "language_info": {
   "codemirror_mode": {
    "name": "ipython",
    "version": 3
   },
   "file_extension": ".py",
   "mimetype": "text/x-python",
   "name": "python",
   "nbconvert_exporter": "python",
   "pygments_lexer": "ipython3",
   "version": "3.11.4"
  }
 },
 "nbformat": 4,
 "nbformat_minor": 5
}
